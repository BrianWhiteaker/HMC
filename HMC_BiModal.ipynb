{
 "cells": [
  {
   "cell_type": "code",
   "execution_count": 1,
   "id": "b7125add",
   "metadata": {},
   "outputs": [],
   "source": [
    "import torch\n",
    "import numpy as np\n",
    "import matplotlib.pyplot as plt\n",
    "\n",
    "from typing import Tuple, Callable, Union, Optional\n",
    "from tensor_type import Tensor\n",
    "from scipy.stats import norm, expon, uniform, multivariate_normal\n",
    "from torch import mm, exp, log, det, minimum, sqrt, mul\n",
    "from torch.linalg import inv, det\n",
    "\n",
    "import time\n",
    "import pdb\n",
    "import tqdm"
   ]
  },
  {
   "cell_type": "code",
   "execution_count": null,
   "id": "14de0c98",
   "metadata": {},
   "outputs": [],
   "source": [
    "def improve_mass_matrix(minv: Tensor,\n",
    "                        mu: Tensor,\n",
    "                        n: int,\n",
    "                        qs = List[Tensor]) -> Tensor:\n",
    "    '''\n",
    "    This function takes a list of the burn-in parameter points q\n",
    "    and the current mass matrix to estimate an improved matrix\n",
    "    minv: current mass matrix\n",
    "    mu: mean of distribution\n",
    "    n: number of burn-in points\n",
    "    qs: lsit of parameter points\n",
    "    returns the mean matrix of q.q^T and original minv\n",
    "    '''\n",
    "    #pdb.set_trace()\n",
    "    minv = minv.clone()\n",
    "    for i in range(n):\n",
    "        a = qs[i] - mu  # create rank-1 matrix\n",
    "        minv.add_(a.mm(a.t()))  # sum into minv\n",
    "    \n",
    "    return minv.div_(n)\n",
    "\n",
    "# Unit Test\n",
    "#test_list = [torch.tensor([[2.],[3.]]), torch.tensor([[1.],[4.]])]\n",
    "#ident = torch.tensor([[1.,0.],[0.,1.]])\n",
    "#zero = torch.zeros((2,1))\n",
    "#improve_mass_matrix(ident,zero,2, test_list)"
   ]
  },
  {
   "cell_type": "code",
   "execution_count": 2,
   "id": "15b3eaa1",
   "metadata": {},
   "outputs": [],
   "source": [
    "def KE(x:  Tensor,\n",
    "       mu: Tensor,\n",
    "       Minv: Optional[Tensor]=None,\n",
    "       detM: Optional[float] =0.0) -> Tensor:\n",
    "    '''\n",
    "    This is a kinetic energy function KE(x) = -log pi(p|q), where\n",
    "    pi is of general form xT.A.x\n",
    "    x: is a point\n",
    "    mu: is the distribution mean\n",
    "    '''\n",
    "    #pdb.set_trace()\n",
    "    if(torch.is_tensor(Minv)):\n",
    "        const = log(2*np.pi*np.sqrt(detM))\n",
    "        ke = .5 * mm(x.t(), mm(Minv,x)) + const\n",
    "    else:\n",
    "        ke = .5 * mm(a.t(),a)\n",
    "    return ke\n",
    "\n",
    "def KE_2(x:  Tensor,\n",
    "       mu1: Tensor,\n",
    "       mu2: Tensor,\n",
    "       Minv1: Optional[Tensor] = None,\n",
    "       Minv2: Optional[Tensor] = None,\n",
    "       detM1: Optional[float] = 0.0,\n",
    "       detM2: Optional[float] = 0.0) -> Tensor:\n",
    "    '''\n",
    "    This is a kinetic energy function KE(x) = -log pi(p|q), where\n",
    "    pi is of general form xT.A.x\n",
    "    x: is a point\n",
    "    mu: is the distribution mean\n",
    "    '''\n",
    "    #pdb.set_trace()\n",
    "    a = x-mu1\n",
    "    b = x-mu2\n",
    "    if(torch.is_tensor(Minv1)):\n",
    "        const = log(2*np.pi*np.sqrt(detM1)) + log(2*np.pi*np.sqrt(detM2)) - np.log(.6) - np.log(.4)\n",
    "        ke = .5 * (mm(a.t(), mm(Minv1,a)) + mm(b.t(), mm(Minv2,b)) ) + const\n",
    "    else:\n",
    "        ke = .5 * mm(a.t(),a)\n",
    "    return ke\n",
    "\n",
    "\n",
    "\n",
    "def PE_1(x:  Tensor,\n",
    "         mu: Tensor,\n",
    "         Minv: Optional[Tensor] = None,\n",
    "         detM: Optional[float] = 0.0) -> Tensor:\n",
    "    '''\n",
    "    -log pi(q) where pi(q) is Gaussian \n",
    "    '''\n",
    "    #pdb.set_trace()\n",
    "    a = x-mu\n",
    "    if(torch.is_tensor(Minv)):\n",
    "        const = log(2*np.pi*np.sqrt(detM))\n",
    "        pe = .5 * mm(a.t(), mm(Minv,a)) + const\n",
    "    else:\n",
    "        pe = .5 * mm(a.t(),a)\n",
    "    return pe\n",
    "\n",
    "def PE_2(x:  Tensor,\n",
    "         mu1: Tensor,\n",
    "         mu2: Tensor,\n",
    "         Minv1: Optional[Tensor] = None,\n",
    "         Minv2: Optional[Tensor] = None,\n",
    "         detM1: Optional[float] = 0.0,\n",
    "         detM2: Optional[float] = 0.0) -> Tensor:\n",
    "    '''\n",
    "    -log pi(q) where pi(q) is Gaussian \n",
    "    '''\n",
    "    #pdb.set_trace()\n",
    "    a = x-mu1\n",
    "    b = x-mu2\n",
    "    if(torch.is_tensor(Minv1)):\n",
    "        const = log(2*np.pi*sqrt(detM1)) + log(2*np.pi*sqrt(detM2)) - np.log(.6) - np.log(.4)\n",
    "        pe = .5 * (mm(a.t(), mm(Minv1,a)) + mm(b.t(), mm(Minv2,b)) ) + const\n",
    "    else:\n",
    "        pe = .5 * mm(a.t(),a)\n",
    "    return pe"
   ]
  },
  {
   "cell_type": "code",
   "execution_count": 3,
   "id": "2157f032",
   "metadata": {},
   "outputs": [],
   "source": [
    "def get_autograd(func: Callable,\n",
    "                 x:    Tensor,\n",
    "                 mu1:   Tensor,\n",
    "                 mu2:   Tensor,\n",
    "                 Mat1:  Tensor,\n",
    "                 Mat2:  Tensor,\n",
    "                 detMat1: Optional[float] =0.0,\n",
    "                 detMat2: Optional[float] =0.0) -> Tuple[Tensor, Tensor]:\n",
    "    '''\n",
    "    dH calculates K(p) or V(q) along with associated gradient.\n",
    "    x: is a tensor\n",
    "    Mat: is a mass matrix\n",
    "    func: is the K or V function to calculate\n",
    "    returns function output and gradient\n",
    "    '''\n",
    "    #pdb.set_trace()\n",
    "    x.requires_grad_(True) # track math operations\n",
    "    x.retain_grad() # keep gradient after backward()\n",
    "    out = func(x, mu1, mu2, Mat1, Mat2, detMat1, detMat2)  # calculate given function\n",
    "    out.backward(gradient=torch.ones(out.size()))  # Calculate grads\n",
    "    x_grad = x.grad.data  # get gradients only\n",
    "    x.grad = None  # reset gradient \n",
    "    x.requires_grad_(False)  # stop tracking\n",
    "    return out.detach().clone(), x_grad \n",
    "\n",
    "# Unit Test\n",
    "#t = torch.tensor([6., 4.]).view(2,1)\n",
    "#tout, dt = dH(t, Minv, Tst2)"
   ]
  },
  {
   "cell_type": "code",
   "execution_count": 4,
   "id": "90e4649a",
   "metadata": {},
   "outputs": [],
   "source": [
    "def stormer_verlet(V:    Callable,\n",
    "                   q0:   Tensor,\n",
    "                   p0:   Tensor,\n",
    "                   mu1:   Tensor,\n",
    "                   mu2:   Tensor,\n",
    "                   Minv1: Tensor,\n",
    "                   Minv2: Tensor,\n",
    "                   detM1: Tensor,\n",
    "                   detM2: Tensor,\n",
    "                   eps:  float,\n",
    "                   T:    int) -> Tuple[Tensor, Tensor]:\n",
    "    '''\n",
    "    Stormer-Verlet should propagate a point in phase space\n",
    "    (p,q) according to Hamiltonian H.\n",
    "    \n",
    "    dVdq: references a function yielding the derivative of\n",
    "    potential energy V.\n",
    "    q0: is initial position tensor\n",
    "    p0: is initial momentum tensor\n",
    "    eps: scalar time increment\n",
    "    T: time interval length\n",
    "    returns numpy arrays q and p\n",
    "    '''\n",
    "    Nsteps = int(T//eps)\n",
    "    q, p = q0.clone(), p0.clone()    \n",
    "    for n in range(Nsteps-1):\n",
    "        #pdb.set_trace()\n",
    "        start = time.time()\n",
    "        _, dHdq = get_autograd(V, q, mu1, mu2, Minv1, Minv2, detM1, detM2)\n",
    "        d1 = time.time()-start\n",
    "        \n",
    "        p -= eps * dHdq/2 # half momentum step\n",
    "        q += eps * p # full parameter step\n",
    "        \n",
    "    start = time.time()\n",
    "    _, dHdq = get_autograd(V, q, mu1, mu2, Minv1, Minv2, detM1, detM2)\n",
    "    d2 = time.time()-start\n",
    "    p -= eps * dHdq # full momentum step\n",
    "        \n",
    "    #print(f'n={n}  derivative time {d1:.6f} --- {d2:.6f}')\n",
    "    return q,-p "
   ]
  },
  {
   "cell_type": "code",
   "execution_count": 5,
   "id": "872423d8",
   "metadata": {},
   "outputs": [],
   "source": [
    "def acceptance(q0: Tensor,\n",
    "               p0: Tensor,\n",
    "               q:  Tensor,\n",
    "               p:  Tensor,\n",
    "               mu1: Tensor,\n",
    "               mu2: Tensor,\n",
    "               Minv1: Optional[Tensor]=None,\n",
    "               Minv2: Optional[Tensor]=None) -> Tuple[Tensor, bool]:\n",
    "    '''\n",
    "    This function calculates the acceptance ratio for a proposal point.\n",
    "    as min(1, exp(deltaE)) and checks this against a random uniform observer\n",
    "    value. \n",
    "    q,q0,p,p0: Tensors\n",
    "    mu: Tensor\n",
    "    Minv: Tensor\n",
    "    Returns a point and a boolean flag denoting accept or not accept\n",
    "    '''\n",
    "    #pdb.set_trace()\n",
    "    KE0, PE0       = KE_2(q0, mu1, mu2, Minv1, Minv2, detM1, detM2) , PE_2(p0, mu1, mu2, Minv1, Minv2, detM1, detM2) \n",
    "    KEstar, PEstar = KE_2(q, mu1, mu2, Minv1, Minv2, detM1, detM2)  , PE_2(p, mu1, mu2, Minv1, Minv2, detM1, detM2)\n",
    "    ke_diff = exp((KE0 + PE0) - (KEstar + PEstar)).item()\n",
    "    r = min(1., ke_diff)\n",
    "    obs = uniform.rvs()\n",
    "    if obs < r:\n",
    "        point = q\n",
    "        acceptFlag = True\n",
    "    else:\n",
    "        point = q0\n",
    "        acceptFlag = False\n",
    "    return point, acceptFlag"
   ]
  },
  {
   "cell_type": "code",
   "execution_count": 6,
   "id": "06798cd0",
   "metadata": {},
   "outputs": [],
   "source": [
    "T = 10  # Full time-steps\n",
    "eps = 0.1  # Discretization of time-steps\n",
    "Nsteps = int(T//eps)\n",
    "Nq = 10000  # Number of q's to test \n",
    "D = 2  # Dimension of q\n",
    "\n",
    "m1 =[[1., 0.2],\n",
    "     [0.2, 1.]]\n",
    "M1 = torch.tensor(m1)\n",
    "Minv1 = inv(M1)\n",
    "detM1 = det(M1).type(torch.float32)\n",
    "mu1 = torch.tensor([[-1.],[0.]],dtype=torch.float32)\n",
    "\n",
    "m2 = [[1., -0.9], \n",
    "      [-0.9, 1.]]\n",
    "M2 = torch.tensor(m2)\n",
    "Minv2 = inv(M2)\n",
    "detM2 = det(M2).type(torch.float32)\n",
    "mu2 = torch.tensor([[2.],[1.]],dtype=torch.float32)"
   ]
  },
  {
   "cell_type": "code",
   "execution_count": 7,
   "id": "31f5c3bb",
   "metadata": {},
   "outputs": [
    {
     "name": "stderr",
     "output_type": "stream",
     "text": [
      "100%|█████████████████████████████████████| 10000/10000 [05:49<00:00, 28.60it/s]"
     ]
    },
    {
     "name": "stdout",
     "output_type": "stream",
     "text": [
      "Acceptance rate: 0.4445\n",
      "\n",
      "\n",
      "CPU times: user 5min 45s, sys: 1.97 s, total: 5min 47s\n",
      "Wall time: 5min 49s\n"
     ]
    },
    {
     "name": "stderr",
     "output_type": "stream",
     "text": [
      "\n"
     ]
    }
   ],
   "source": [
    "%%time\n",
    "\n",
    "accepted = 0\n",
    "rejected = 0\n",
    "\n",
    "acceptedPoints = torch.zeros((D,Nq))\n",
    "\n",
    "# Diagnostic\n",
    "allPaths = qPath = torch.zeros((Nq, Nsteps, D))\n",
    "pathFlag = []\n",
    "\n",
    "# pre-select random q's\n",
    "q0 = torch.tensor([[4.],[0.]])\n",
    "Q0 = np.random.uniform(low=-.3, high=.3, size=(D,Nq)) #(2,100)\n",
    "\n",
    "# Loop iterations\n",
    "for n in tqdm.tqdm(range(Nq)):\n",
    "    #print(f'Iter: {n}')\n",
    "    qPath = torch.zeros((Nsteps,D))\n",
    "    # sample a parameter point from Q-space\n",
    "    q0 = torch.from_numpy(Q0[:,n]).reshape((2,1)).type(torch.float32)\n",
    "    # sample momentum p0 from normal\n",
    "    p0 = torch.from_numpy(norm.rvs(size = 2)).type(torch.float32).view(2,1)\n",
    "    #print(p0.size())\n",
    "    # q0,p0 are (2,1) tensors\n",
    "    q, p = stormer_verlet(PE_2, q0, p0, mu1, mu2,\n",
    "                          Minv1, Minv2, detM1, detM2, eps, T)\n",
    "    q1, aFlag = acceptance(q0, p0, q, p, mu1, mu2, Minv1, Minv2)\n",
    "    acceptedPoints[:,n] = torch.squeeze(q)\n",
    "\n",
    "    if(aFlag):\n",
    "        accepted +=1\n",
    "    else:\n",
    "        rejected +=1\n",
    "    pathFlag.append(aFlag)\n",
    "    allPaths[n,:,:] = qPath[:,:]\n",
    "    #print(f'q={q1}    accepted={aFlag}')\n",
    "\n",
    "print(f'Acceptance rate: {accepted/Nq}\\n\\n')    "
   ]
  },
  {
   "cell_type": "code",
   "execution_count": 8,
   "id": "84f34ed0",
   "metadata": {},
   "outputs": [
    {
     "data": {
      "text/plain": [
       "(10000, 99, 2)"
      ]
     },
     "execution_count": 8,
     "metadata": {},
     "output_type": "execute_result"
    }
   ],
   "source": [
    "acceptedPoints_np = acceptedPoints.numpy()\n",
    "allPaths_np = allPaths.numpy()\n",
    "allPaths_np.shape"
   ]
  },
  {
   "cell_type": "code",
   "execution_count": 9,
   "id": "7e3e8009",
   "metadata": {
    "scrolled": false
   },
   "outputs": [
    {
     "data": {
      "image/png": "[encoded data removed]",
      "text/plain": [
       "<Figure size 504x504 with 1 Axes>"
      ]
     },
     "metadata": {
      "needs_background": "light"
     },
     "output_type": "display_data"
    }
   ],
   "source": [
    "N    = 200\n",
    "X    = np.linspace(-6, 6, N)\n",
    "Y    = np.linspace(-6, 6, N)\n",
    "X, Y = np.meshgrid(X, Y)\n",
    "pos  = np.dstack((X, Y))\n",
    "rv1  = multivariate_normal([-1, 0], m1)\n",
    "rv2  = multivariate_normal([2, 1], m2)\n",
    "Z    = .6*rv1.pdf(pos) + .4*rv2.pdf(pos) \n",
    "\n",
    "plt.figure(figsize=(7,7))\n",
    "plt.contour(X, Y, Z)\n",
    "plt.scatter(acceptedPoints_np[0,:], acceptedPoints_np[1,:], s=.1)\n",
    "plt.show()"
   ]
  },
  {
   "cell_type": "code",
   "execution_count": 10,
   "id": "f01e84df",
   "metadata": {},
   "outputs": [
    {
     "data": {
      "text/plain": [
       "1.4271163556401456"
      ]
     },
     "execution_count": 10,
     "metadata": {},
     "output_type": "execute_result"
    }
   ],
   "source": [
    "-np.log(.6)-np.log(.4)"
   ]
  },
  {
   "cell_type": "code",
   "execution_count": null,
   "id": "76b9f714",
   "metadata": {},
   "outputs": [],
   "source": []
  }
 ],
 "metadata": {
  "kernelspec": {
   "display_name": "Python 3 (ipykernel)",
   "language": "python",
   "name": "python3"
  },
  "language_info": {
   "codemirror_mode": {
    "name": "ipython",
    "version": 3
   },
   "file_extension": ".py",
   "mimetype": "text/x-python",
   "name": "python",
   "nbconvert_exporter": "python",
   "pygments_lexer": "ipython3",
   "version": "3.8.12"
  }
 },
 "nbformat": 4,
 "nbformat_minor": 5
}
