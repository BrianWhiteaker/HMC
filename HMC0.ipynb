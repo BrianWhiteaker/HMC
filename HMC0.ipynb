{
 "cells": [
  {
   "cell_type": "code",
   "execution_count": 1,
   "id": "b7125add",
   "metadata": {},
   "outputs": [],
   "source": [
    "import torch\n",
    "import numpy as np\n",
    "import matplotlib.pyplot as plt\n",
    "from scipy.stats import norm, expon, uniform\n",
    "from torch import mm, exp, log, det, minimum, sqrt, mul\n",
    "from torch.linalg import inv\n",
    "import time\n",
    "import pdb"
   ]
  },
  {
   "cell_type": "code",
   "execution_count": 8,
   "id": "15b3eaa1",
   "metadata": {},
   "outputs": [],
   "source": [
    "def Gaussian(x, mu):\n",
    "    '''\n",
    "    Multivariate Gaussian distribution\n",
    "    '''\n",
    "    global Minv, detM\n",
    "    return (1/(sqrt(detM*(2*np.pi)**D)))* \\\n",
    "            exp( -0.5 *(x-mu).T.mm(Minv).mm(x-mu))+log(detM)\n",
    "    \n",
    "\n",
    "def KE(x, mu, Minv=None):\n",
    "    '''\n",
    "    -log pi(p|q)\n",
    "    '''\n",
    "    global Minv, detM\n",
    "    if(Minv):\n",
    "        return mul(exp((x-mu).T.mm(Minv).mm((x-mu))) + log(detM), .5)\n",
    "    else:\n",
    "        mul(exp((x-mu).T.mm((x-mu))) + log(detM), .5)\n",
    "\n",
    "def PE(x, mu):\n",
    "    '''\n",
    "    -log pi(q) where pi(q) is Gaussian \n",
    "    '''\n",
    "    global Minv, detM\n",
    "    return .5 * exp((x-mu).T.mm(Minv).mm(x-mu)) + log(detM)"
   ]
  },
  {
   "cell_type": "code",
   "execution_count": 9,
   "id": "2157f032",
   "metadata": {},
   "outputs": [],
   "source": [
    "def get_gradient(x, Mat, func):\n",
    "    '''\n",
    "    dH calculates K(p) or V(q) along with associated gradient.\n",
    "    x: is a tensor\n",
    "    Mat: is a mass matrix\n",
    "    func: is the K or V function to calculate\n",
    "    returns function output and gradient\n",
    "    '''\n",
    "    #pdb.set_trace()\n",
    "    x.requires_grad_(True) # track math operations\n",
    "    x.retain_grad() # keep gradient after backward()\n",
    "    out = func(x, Mat)  # calculate given function\n",
    "    out.backward(gradient=torch.ones(out.size()))  # Calculate grads\n",
    "    x_grad = x.grad.data  # get gradients only\n",
    "    x.grad = None  # reset gradient \n",
    "    x.requires_grad_(False)  # stop tracking\n",
    "    return out.detach().clone(), x_grad \n",
    "\n",
    "# Unit Test\n",
    "#t = torch.tensor([6., 4.]).view(2,1)\n",
    "#tout, dt = dH(t, Minv, Tst2)"
   ]
  },
  {
   "cell_type": "code",
   "execution_count": 22,
   "id": "90e4649a",
   "metadata": {},
   "outputs": [],
   "source": [
    "def stormer_verlet(V, q0, p0, Minv, epsilon, T):\n",
    "    '''\n",
    "    Stormer-Verlet should propagate a point in phase space\n",
    "    (p,q) according to Hamiltonian H.\n",
    "    \n",
    "    dVdq: references a function yielding the derivative of\n",
    "    potential energy V.\n",
    "    q0: is initial position tensor\n",
    "    p0: is initial momentum tensor\n",
    "    epsilon: scalar time increment\n",
    "    T: time interval length\n",
    "    returns numpy arrays q and p\n",
    "    '''\n",
    "    q, p = q0, p0    \n",
    "    for n in range(int(T//epsilon)):\n",
    "        #pdb.set_trace()\n",
    "        start = time.time()\n",
    "        p -= epsilon * dH(q, Minv, V)/2. # half momentum step\n",
    "        d1 = time.time()-start\n",
    "        \n",
    "        q += epsilon * p # full parameter step\n",
    "        \n",
    "        start = time.time()\n",
    "        p -= epsilon * dH(q, Minv, V) # full momentum step\n",
    "        d2 = time.time()-start\n",
    "        \n",
    "        print(f'n={n}  derivative time {d1:.2f} --- {d2:.2f}')\n",
    "        \n",
    "    return q,-p # Why wasn't this flipped?"
   ]
  },
  {
   "cell_type": "code",
   "execution_count": 23,
   "id": "872423d8",
   "metadata": {},
   "outputs": [],
   "source": [
    "def acceptance(q0,p0, q, p):\n",
    "    r = min(1.,exp(KE(q0) + PE(p0) - KE(q) - PE(p)).item())\n",
    "    obs = uniform.rvs()\n",
    "    if obs < r:\n",
    "        point = q\n",
    "        acceptFlag = True\n",
    "    else:\n",
    "        point = q0\n",
    "        acceptFlag = False\n",
    "    return point, acceptFlag"
   ]
  },
  {
   "cell_type": "code",
   "execution_count": 24,
   "id": "04538f39",
   "metadata": {},
   "outputs": [],
   "source": [
    "D = 2\n",
    "M = torch.tensor([[1., 0.8],\n",
    "                  [0.8, 1.]])\n",
    "Minv = inv(M)\n",
    "detM = det(M).type(torch.float32)\n",
    "mu = torch.tensor([[0.],[0.]],dtype=torch.float32)\n",
    "N = 100"
   ]
  },
  {
   "cell_type": "code",
   "execution_count": 25,
   "id": "d77ad24d",
   "metadata": {},
   "outputs": [
    {
     "ename": "TypeError",
     "evalue": "can't multiply sequence by non-int of type 'float'",
     "output_type": "error",
     "traceback": [
      "\u001b[0;31m---------------------------------------------------------------------------\u001b[0m",
      "\u001b[0;31mTypeError\u001b[0m                                 Traceback (most recent call last)",
      "\u001b[0;32m/tmp/ipykernel_2671686/140029554.py\u001b[0m in \u001b[0;36m<module>\u001b[0;34m\u001b[0m\n\u001b[1;32m      9\u001b[0m     \u001b[0;31m# sample p0\u001b[0m\u001b[0;34m\u001b[0m\u001b[0;34m\u001b[0m\u001b[0;34m\u001b[0m\u001b[0m\n\u001b[1;32m     10\u001b[0m     \u001b[0mp0\u001b[0m \u001b[0;34m=\u001b[0m \u001b[0mtorch\u001b[0m\u001b[0;34m.\u001b[0m\u001b[0mfrom_numpy\u001b[0m\u001b[0;34m(\u001b[0m\u001b[0mnorm\u001b[0m\u001b[0;34m.\u001b[0m\u001b[0mrvs\u001b[0m\u001b[0;34m(\u001b[0m\u001b[0msize\u001b[0m \u001b[0;34m=\u001b[0m \u001b[0;36m2\u001b[0m\u001b[0;34m)\u001b[0m\u001b[0;34m)\u001b[0m\u001b[0;34m\u001b[0m\u001b[0;34m\u001b[0m\u001b[0m\n\u001b[0;32m---> 11\u001b[0;31m     \u001b[0mq\u001b[0m\u001b[0;34m,\u001b[0m \u001b[0mp\u001b[0m \u001b[0;34m=\u001b[0m \u001b[0mstormer_verlet\u001b[0m\u001b[0;34m(\u001b[0m\u001b[0mPE\u001b[0m\u001b[0;34m,\u001b[0m \u001b[0mq0\u001b[0m\u001b[0;34m,\u001b[0m \u001b[0mp0\u001b[0m\u001b[0;34m,\u001b[0m \u001b[0mMinv\u001b[0m\u001b[0;34m,\u001b[0m \u001b[0meps\u001b[0m\u001b[0;34m,\u001b[0m \u001b[0mT\u001b[0m\u001b[0;34m)\u001b[0m\u001b[0;34m\u001b[0m\u001b[0;34m\u001b[0m\u001b[0m\n\u001b[0m\u001b[1;32m     12\u001b[0m     \u001b[0mprint\u001b[0m\u001b[0;34m(\u001b[0m\u001b[0mq\u001b[0m\u001b[0;34m)\u001b[0m\u001b[0;34m\u001b[0m\u001b[0;34m\u001b[0m\u001b[0m\n",
      "\u001b[0;32m/tmp/ipykernel_2671686/1775819688.py\u001b[0m in \u001b[0;36mstormer_verlet\u001b[0;34m(V, q0, p0, Minv, epsilon, T)\u001b[0m\n\u001b[1;32m     16\u001b[0m         \u001b[0;31m#pdb.set_trace()\u001b[0m\u001b[0;34m\u001b[0m\u001b[0;34m\u001b[0m\u001b[0;34m\u001b[0m\u001b[0m\n\u001b[1;32m     17\u001b[0m         \u001b[0mstart\u001b[0m \u001b[0;34m=\u001b[0m \u001b[0mtime\u001b[0m\u001b[0;34m.\u001b[0m\u001b[0mtime\u001b[0m\u001b[0;34m(\u001b[0m\u001b[0;34m)\u001b[0m\u001b[0;34m\u001b[0m\u001b[0;34m\u001b[0m\u001b[0m\n\u001b[0;32m---> 18\u001b[0;31m         \u001b[0mp\u001b[0m \u001b[0;34m-=\u001b[0m \u001b[0mepsilon\u001b[0m \u001b[0;34m*\u001b[0m \u001b[0mdH\u001b[0m\u001b[0;34m(\u001b[0m\u001b[0mq\u001b[0m\u001b[0;34m,\u001b[0m \u001b[0mMinv\u001b[0m\u001b[0;34m,\u001b[0m \u001b[0mV\u001b[0m\u001b[0;34m)\u001b[0m\u001b[0;34m/\u001b[0m\u001b[0;36m2.\u001b[0m \u001b[0;31m# half momentum step\u001b[0m\u001b[0;34m\u001b[0m\u001b[0;34m\u001b[0m\u001b[0m\n\u001b[0m\u001b[1;32m     19\u001b[0m         \u001b[0md1\u001b[0m \u001b[0;34m=\u001b[0m \u001b[0mtime\u001b[0m\u001b[0;34m.\u001b[0m\u001b[0mtime\u001b[0m\u001b[0;34m(\u001b[0m\u001b[0;34m)\u001b[0m\u001b[0;34m-\u001b[0m\u001b[0mstart\u001b[0m\u001b[0;34m\u001b[0m\u001b[0;34m\u001b[0m\u001b[0m\n\u001b[1;32m     20\u001b[0m \u001b[0;34m\u001b[0m\u001b[0m\n",
      "\u001b[0;31mTypeError\u001b[0m: can't multiply sequence by non-int of type 'float'"
     ]
    }
   ],
   "source": [
    "eps = 0.3\n",
    "T = 9\n",
    "\n",
    "Q0 = np.random.uniform(low=-4, high=4, size=(100,2))\n",
    "# Loop iterations\n",
    "for n in range(N):\n",
    "    # sample a point from Q-space\n",
    "    q0 = torch.from_numpy(Q0[n,:].reshape(2,1)).type(torch.float32)\n",
    "    # sample p0\n",
    "    p0 = torch.from_numpy(norm.rvs(size = 2))\n",
    "    q, p = stormer_verlet(PE, q0, p0, Minv, eps, T)\n",
    "    print(q)"
   ]
  },
  {
   "cell_type": "code",
   "execution_count": 26,
   "id": "161b0b1f",
   "metadata": {},
   "outputs": [],
   "source": [
    "x = torch.tensor([[.2],[.3]],requires_grad=True)\n",
    "#g = 0.5 * exp((x-mu).T.mm(Minv).mm(x-mu)) + log(detM)"
   ]
  },
  {
   "cell_type": "code",
   "execution_count": null,
   "id": "47d08ae2",
   "metadata": {},
   "outputs": [],
   "source": []
  }
 ],
 "metadata": {
  "kernelspec": {
   "display_name": "Python 3 (ipykernel)",
   "language": "python",
   "name": "python3"
  },
  "language_info": {
   "codemirror_mode": {
    "name": "ipython",
    "version": 3
   },
   "file_extension": ".py",
   "mimetype": "text/x-python",
   "name": "python",
   "nbconvert_exporter": "python",
   "pygments_lexer": "ipython3",
   "version": "3.8.12"
  }
 },
 "nbformat": 4,
 "nbformat_minor": 5
}
