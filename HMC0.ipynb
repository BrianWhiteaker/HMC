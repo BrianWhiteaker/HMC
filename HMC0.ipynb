{
 "cells": [
  {
   "cell_type": "code",
   "execution_count": 1,
   "id": "b7125add",
   "metadata": {},
   "outputs": [],
   "source": [
    "import torch\n",
    "import numpy as np\n",
    "import matplotlib.pyplot as plt\n",
    "\n",
    "from typing import Tuple, Callable, Union, Optional\n",
    "from tensor_type import Tensor\n",
    "from scipy.stats import norm, expon, uniform, multivariate_normal\n",
    "from torch import mm, exp, log, det, minimum, sqrt, mul\n",
    "from torch.linalg import inv, det\n",
    "\n",
    "import time\n",
    "import pdb"
   ]
  },
  {
   "cell_type": "code",
   "execution_count": 2,
   "id": "15b3eaa1",
   "metadata": {},
   "outputs": [],
   "source": [
    "def KE(x:  Tensor,\n",
    "       mu: Tensor,\n",
    "       Minv: Optional[Tensor]=None,\n",
    "       detM: Optional[float] =0.0) -> Tensor:\n",
    "    '''\n",
    "    This is a kinetic energy function KE(x) = -log pi(p|q), where\n",
    "    pi is of general form xT.A.x\n",
    "    x: is a point\n",
    "    mu: is the distribution mean\n",
    "    '''\n",
    "    #pdb.set_trace()\n",
    "    a = x-mu\n",
    "    if(torch.is_tensor(Minv)):\n",
    "        const = log(2*np.pi*np.sqrt(detM))\n",
    "        ke = .5 * mm(a.t(), mm(Minv,a)) + const\n",
    "    else:\n",
    "        ke = .5 * mm(a.t(),a)\n",
    "    return ke\n",
    "\n",
    "def PE(x:  Tensor,\n",
    "       mu: Tensor,\n",
    "       Minv: Optional[Tensor] = None,\n",
    "       detM: Optional[float] = 0.0) -> Tensor:\n",
    "    '''\n",
    "    -log pi(q) where pi(q) is Gaussian \n",
    "    '''\n",
    "    #pdb.set_trace()\n",
    "    a = x-mu\n",
    "    if(torch.is_tensor(Minv)):\n",
    "        const = log(2*np.pi*np.sqrt(detM))\n",
    "        pe = .5 * mm(a.t(), mm(Minv,a)) + const\n",
    "    else:\n",
    "        pe = .5 * mm(a.t(),a)\n",
    "    return pe"
   ]
  },
  {
   "cell_type": "code",
   "execution_count": 3,
   "id": "2157f032",
   "metadata": {},
   "outputs": [],
   "source": [
    "def get_autograd(func: Callable,\n",
    "                 x:    Tensor,\n",
    "                 mu:   Tensor,\n",
    "                 Mat:  Tensor,\n",
    "                 detMat: Optional[float] =0.0) -> Tuple[Tensor, Tensor]:\n",
    "    '''\n",
    "    dH calculates K(p) or V(q) along with associated gradient.\n",
    "    x: is a tensor\n",
    "    Mat: is a mass matrix\n",
    "    func: is the K or V function to calculate\n",
    "    returns function output and gradient\n",
    "    '''\n",
    "    #pdb.set_trace()\n",
    "    x.requires_grad_(True) # track math operations\n",
    "    x.retain_grad() # keep gradient after backward()\n",
    "    out = func(x, mu, Mat, detMat)  # calculate given function\n",
    "    out.backward(gradient=torch.ones(out.size()))  # Calculate grads\n",
    "    x_grad = x.grad.data  # get gradients only\n",
    "    x.grad = None  # reset gradient \n",
    "    x.requires_grad_(False)  # stop tracking\n",
    "    return out.detach().clone(), x_grad \n",
    "\n",
    "# Unit Test\n",
    "#t = torch.tensor([6., 4.]).view(2,1)\n",
    "#tout, dt = dH(t, Minv, Tst2)"
   ]
  },
  {
   "cell_type": "code",
   "execution_count": 4,
   "id": "90e4649a",
   "metadata": {},
   "outputs": [],
   "source": [
    "def stormer_verlet(V:    Callable,\n",
    "                   q0:   Tensor,\n",
    "                   p0:   Tensor,\n",
    "                   mu:   Tensor,\n",
    "                   Minv: Tensor,\n",
    "                   eps:  float,\n",
    "                   T:    int) -> Tuple[Tensor, Tensor]:\n",
    "    '''\n",
    "    Stormer-Verlet should propagate a point in phase space\n",
    "    (p,q) according to Hamiltonian H.\n",
    "    \n",
    "    dVdq: references a function yielding the derivative of\n",
    "    potential energy V.\n",
    "    q0: is initial position tensor\n",
    "    p0: is initial momentum tensor\n",
    "    epsilon: scalar time increment\n",
    "    T: time interval length\n",
    "    returns numpy arrays q and p\n",
    "    '''\n",
    "    global qPath\n",
    "    Nsteps = int(T//eps)\n",
    "    q, p = q0.clone(), p0.clone()    \n",
    "    for n in range(Nsteps):\n",
    "        #pdb.set_trace()\n",
    "        start = time.time()\n",
    "        _, dHdq = get_autograd(V, q, mu, Minv, detM)\n",
    "        d1 = time.time()-start\n",
    "        \n",
    "        p -= eps * dHdq/2 # half momentum step\n",
    "        q += eps * p # full parameter step\n",
    "        \n",
    "        start = time.time()\n",
    "        _, dHdq = get_autograd(V, q, mu, Minv, detM)\n",
    "        d2 = time.time()-start\n",
    "        p -= eps * dHdq # full momentum step\n",
    "        \n",
    "        qPath[n,:] = torch.squeeze(q)\n",
    "        #print(f'n={n}  derivative time {d1:.6f} --- {d2:.6f}')\n",
    "        \n",
    "    return q,-p "
   ]
  },
  {
   "cell_type": "code",
   "execution_count": 5,
   "id": "872423d8",
   "metadata": {},
   "outputs": [],
   "source": [
    "def acceptance(q0: Tensor,\n",
    "               p0: Tensor,\n",
    "               q:  Tensor,\n",
    "               p:  Tensor,\n",
    "               mu: Tensor,\n",
    "               Minv: Optional[Tensor]=None) -> Tuple[Tensor, bool]:\n",
    "    #pdb.set_trace()\n",
    "    KE0, PE0       = KE(q0, mu, Minv, detM) , PE(p0, mu, Minv, detM) \n",
    "    KEstar, PEstar = KE(q, mu, Minv, detM)  , PE(p, mu, Minv, detM)\n",
    "    ke_diff = exp((KE0 + PE0) - (KEstar + PEstar)).item()\n",
    "    r = min(1., ke_diff)\n",
    "    obs = uniform.rvs()\n",
    "    if obs < r:\n",
    "        point = q\n",
    "        acceptFlag = True\n",
    "    else:\n",
    "        point = q0\n",
    "        acceptFlag = False\n",
    "    return point, acceptFlag"
   ]
  },
  {
   "cell_type": "code",
   "execution_count": 6,
   "id": "06798cd0",
   "metadata": {},
   "outputs": [],
   "source": [
    "T = 3  # Full time-steps\n",
    "eps = 0.2  # Discretization of time-steps\n",
    "Nsteps = int(T//eps)\n",
    "Nq = 2000  # Number of q's to test \n",
    "D = 2  # Dimension of q\n",
    "M = torch.tensor([[1., 0.8],\n",
    "                  [0.8, 1.]])\n",
    "Minv = inv(M)\n",
    "detM = det(M).type(torch.float32)\n",
    "mu = torch.tensor([[0.],[0.]],dtype=torch.float32)"
   ]
  },
  {
   "cell_type": "code",
   "execution_count": 7,
   "id": "04538f39",
   "metadata": {
    "scrolled": false
   },
   "outputs": [
    {
     "name": "stdout",
     "output_type": "stream",
     "text": [
      "Acceptance rate: 0.1465\n",
      "torch.Size([2, 2000])\n",
      "CPU times: user 11.9 s, sys: 73.3 ms, total: 12 s\n",
      "Wall time: 11.8 s\n"
     ]
    }
   ],
   "source": [
    "%%time\n",
    "accepted = 0\n",
    "rejected = 0\n",
    "\n",
    "acceptedPoints = torch.zeros((D,Nq))\n",
    "\n",
    "# Diagnostic\n",
    "allPaths = qPath = torch.zeros((Nq, Nsteps, D))\n",
    "pathFlag = []\n",
    "\n",
    "# pre-select random q's\n",
    "Q0 = np.random.uniform(low=-4, high=4, size=(D,Nq)) #(2,100)\n",
    "# Loop iterations\n",
    "for n in range(Nq):\n",
    "    #print(f'Iter: {n}')\n",
    "    qPath = torch.zeros((Nsteps,D))\n",
    "    # sample a parameter point from Q-space\n",
    "    q0 = torch.from_numpy(Q0[:,n].reshape(2,1)).type(torch.float32)\n",
    "    # sample momentum p0 from normal\n",
    "    p0 = torch.from_numpy(norm.rvs(size = 2)).type(torch.float32).view(2,1)\n",
    "    #print(p0.size())\n",
    "    # q0,p0 are (2,1) tensors\n",
    "    q, p = stormer_verlet(PE, q0, p0, mu, Minv, eps, T)\n",
    "    q1, aFlag = acceptance(q0, p0, q, p, mu, Minv)\n",
    "    acceptedPoints[:,n] = torch.squeeze(q)\n",
    "\n",
    "    if(aFlag):\n",
    "        accepted +=1\n",
    "    else:\n",
    "        rejected +=1\n",
    "    pathFlag.append(aFlag)\n",
    "    allPaths[n,:,:] = qPath[:,:]\n",
    "    \n",
    "print(f'Acceptance rate: {accepted/Nq}')    \n",
    "print(acceptedPoints.size())"
   ]
  },
  {
   "cell_type": "code",
   "execution_count": 8,
   "id": "cf103681",
   "metadata": {},
   "outputs": [
    {
     "data": {
      "text/plain": [
       "(2000, 14, 2)"
      ]
     },
     "execution_count": 8,
     "metadata": {},
     "output_type": "execute_result"
    }
   ],
   "source": [
    "acceptedPoints_np = acceptedPoints.numpy()\n",
    "allPaths_np = allPaths.numpy()\n",
    "allPaths_np.shape"
   ]
  },
  {
   "cell_type": "code",
   "execution_count": 9,
   "id": "088a43ce",
   "metadata": {},
   "outputs": [
    {
     "data": {
      "image/png": "[encoded data removed]",
      "text/plain": [
       "<Figure size 504x504 with 1 Axes>"
      ]
     },
     "metadata": {
      "needs_background": "light"
     },
     "output_type": "display_data"
    }
   ],
   "source": [
    "N    = 200\n",
    "X    = np.linspace(-4, 4, N)\n",
    "Y    = np.linspace(-4, 4, N)\n",
    "X, Y = np.meshgrid(X, Y)\n",
    "pos  = np.dstack((X, Y))\n",
    "rv   = multivariate_normal([0, 1], [[1., 0.8],[0.8, 1.]])\n",
    "Z    = rv.pdf(pos)\n",
    "\n",
    "plt.figure(figsize=(7,7))\n",
    "plt.contour(X, Y, Z)\n",
    "#for i in range(30):\n",
    "#    if(pathFlag[i]):\n",
    "#        plt.plot(allPaths_np[i,-1,0], allPaths_np[i,-1,1], 'b-')\n",
    "#    else:\n",
    "#        pass\n",
    "        #plt.plot(allPaths_np[i,:,0], allPaths_np[i,:,1], 'r-')\n",
    "plt.scatter(acceptedPoints_np[0,:], acceptedPoints_np[1,:])\n",
    "plt.show()"
   ]
  },
  {
   "cell_type": "code",
   "execution_count": null,
   "id": "888f496c",
   "metadata": {},
   "outputs": [],
   "source": []
  }
 ],
 "metadata": {
  "kernelspec": {
   "display_name": "Python 3 (ipykernel)",
   "language": "python",
   "name": "python3"
  },
  "language_info": {
   "codemirror_mode": {
    "name": "ipython",
    "version": 3
   },
   "file_extension": ".py",
   "mimetype": "text/x-python",
   "name": "python",
   "nbconvert_exporter": "python",
   "pygments_lexer": "ipython3",
   "version": "3.8.12"
  }
 },
 "nbformat": 4,
 "nbformat_minor": 5
}
